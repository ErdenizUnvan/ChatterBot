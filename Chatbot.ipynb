{
 "cells": [
  {
   "cell_type": "code",
   "execution_count": null,
   "id": "cfde6c58",
   "metadata": {},
   "outputs": [],
   "source": [
    "!pip install chatterbot "
   ]
  },
  {
   "cell_type": "code",
   "execution_count": null,
   "id": "589ac234",
   "metadata": {},
   "outputs": [],
   "source": [
    "!pip install chatterbot_corpus"
   ]
  },
  {
   "cell_type": "code",
   "execution_count": null,
   "id": "6f452753",
   "metadata": {},
   "outputs": [],
   "source": [
    "from chatterbot import ChatBot\n",
    "bot = ChatBot('Buddy')"
   ]
  },
  {
   "cell_type": "code",
   "execution_count": null,
   "id": "707b17db",
   "metadata": {},
   "outputs": [],
   "source": [
    "bot = ChatBot(\n",
    "    'Buddy',\n",
    "    storage_adapter='chatterbot.storage.SQLStorageAdapter',\n",
    "    database_uri='sqlite:///database.sqlite3'\n",
    ")"
   ]
  },
  {
   "cell_type": "code",
   "execution_count": null,
   "id": "3f42cb02",
   "metadata": {},
   "outputs": [],
   "source": [
    "bot = ChatBot(\n",
    "    'Buddy',  \n",
    "    logic_adapters=[\n",
    "        'chatterbot.logic.BestMatch',\n",
    "        'chatterbot.logic.TimeLogicAdapter'],\n",
    ")"
   ]
  },
  {
   "cell_type": "code",
   "execution_count": null,
   "id": "c9985432",
   "metadata": {},
   "outputs": [],
   "source": [
    "from chatterbot.trainers import ListTrainer\n",
    "\n",
    "trainer = ListTrainer(bot)\n",
    "\n",
    "trainer.train([\n",
    "'Hi',\n",
    "'Hello',\n",
    "'I need your assistance regarding my order',\n",
    "'Please, Provide me with your order id',\n",
    "'I have a complaint.',\n",
    "'Please elaborate, your concern',\n",
    "'How long it will take to receive an order ?',\n",
    "'An order takes 3-5 Business days to get delivered.',\n",
    "'Okay Thanks',\n",
    "'No Problem! Have a Good Day!'\n",
    "])"
   ]
  },
  {
   "cell_type": "code",
   "execution_count": null,
   "id": "7afa48b4",
   "metadata": {},
   "outputs": [],
   "source": [
    "response = bot.get_response('I have a complaint.')\n",
    "print(f'Bot response: {response}')"
   ]
  },
  {
   "cell_type": "code",
   "execution_count": null,
   "id": "cd552dcf",
   "metadata": {},
   "outputs": [],
   "source": [
    "response = bot.get_response('How long it will take to receive an order ?')\n",
    "print(f'Bot response: {response}')"
   ]
  },
  {
   "cell_type": "code",
   "execution_count": null,
   "id": "1fc7bc82",
   "metadata": {},
   "outputs": [],
   "source": [
    "response = bot.get_response('I need your assistance regarding my order')\n",
    "print(f'Bot response: {response}')"
   ]
  },
  {
   "cell_type": "code",
   "execution_count": null,
   "id": "ce714334",
   "metadata": {},
   "outputs": [],
   "source": [
    "from chatterbot.trainers import ListTrainer\n",
    "from chatterbot import ChatBot\n",
    "\n",
    "bot = ChatBot(\n",
    "    'Buddy',  \n",
    "    logic_adapters=[\n",
    "        'chatterbot.logic.BestMatch',\n",
    "        'chatterbot.logic.TimeLogicAdapter'],\n",
    ")\n",
    "\n",
    "#conv = open('chats.txt','r').readlines()\n",
    "with open('chats.txt') as f:\n",
    "    conversation = f.readlines()\n",
    "    \n",
    "trainer = ListTrainer(bot)\n",
    "\n",
    "trainer.train(conversation)\n",
    "\n",
    "while True:\n",
    "    request = input('You: ')\n",
    "    response = bot.get_response(request)\n",
    "    print('Bot: ', response)"
   ]
  },
  {
   "cell_type": "code",
   "execution_count": null,
   "id": "37ada0d6",
   "metadata": {},
   "outputs": [],
   "source": [
    "pwd"
   ]
  },
  {
   "cell_type": "code",
   "execution_count": null,
   "id": "15b9a5ba",
   "metadata": {},
   "outputs": [],
   "source": []
  },
  {
   "cell_type": "code",
   "execution_count": null,
   "id": "4da33843",
   "metadata": {},
   "outputs": [],
   "source": []
  },
  {
   "cell_type": "code",
   "execution_count": null,
   "id": "85b12563",
   "metadata": {},
   "outputs": [],
   "source": [
    "from chatterbot.trainers import ListTrainer\n",
    "from chatterbot import ChatBot\n",
    "\n",
    "bot = ChatBot(\n",
    "    'Buddy',  \n",
    "    logic_adapters=[\n",
    "        'chatterbot.logic.BestMatch',\n",
    "        'chatterbot.logic.TimeLogicAdapter'],\n",
    ")\n",
    "\n",
    "#conv = open('chats.txt','r').readlines()\n",
    "with open('chats.txt') as f:\n",
    "    conversation = f.readlines()\n",
    "    \n",
    "trainer = ListTrainer(bot)\n",
    "\n",
    "trainer.train(conversation)\n",
    "\n",
    "while True:\n",
    "    request = input('You: ')\n",
    "    response = bot.get_response(request)\n",
    "    print('Bot: ', response)\n",
    "    if request =='Goodbye':\n",
    "        print('Exit')\n",
    "        break"
   ]
  }
 ],
 "metadata": {
  "kernelspec": {
   "display_name": "Python 3 (ipykernel)",
   "language": "python",
   "name": "python3"
  },
  "language_info": {
   "codemirror_mode": {
    "name": "ipython",
    "version": 3
   },
   "file_extension": ".py",
   "mimetype": "text/x-python",
   "name": "python",
   "nbconvert_exporter": "python",
   "pygments_lexer": "ipython3",
   "version": "3.9.7"
  }
 },
 "nbformat": 4,
 "nbformat_minor": 5
}
